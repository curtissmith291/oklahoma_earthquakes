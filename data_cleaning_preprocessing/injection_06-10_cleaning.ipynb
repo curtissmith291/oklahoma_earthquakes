{
 "cells": [
  {
   "cell_type": "markdown",
   "metadata": {},
   "source": [
    "This file cleans the yearly injection data from the OCC for import into the database."
   ]
  },
  {
   "cell_type": "code",
   "execution_count": null,
   "metadata": {},
   "outputs": [],
   "source": [
    "# import data from OCC with yearly volums from 2006 through 2010\n",
    "yearly_df = pd.read_csv(\"../oklahoma_earthquakes_largefiles/all-2006-2010-uic-1012a.csv\", low_memory=False)"
   ]
  },
  {
   "cell_type": "code",
   "execution_count": null,
   "metadata": {},
   "outputs": [],
   "source": [
    "yearly_df.head()"
   ]
  },
  {
   "cell_type": "code",
   "execution_count": null,
   "metadata": {},
   "outputs": [],
   "source": [
    "# strips training whitespaces from column headers\n",
    "yearly_df.rename(columns=lambda x: x.strip(), inplace = True)\n",
    "yearly_df.columns"
   ]
  },
  {
   "cell_type": "code",
   "execution_count": null,
   "metadata": {},
   "outputs": [],
   "source": [
    "# replaces spaces in headers with underscores; can't have spaces in SQL headers\n",
    "yearly_df.columns = yearly_df.columns.str.replace(' ', '_')\n",
    "yearly_df.head()"
   ]
  },
  {
   "cell_type": "code",
   "execution_count": null,
   "metadata": {},
   "outputs": [],
   "source": [
    "# function to make API_COUNTY 3 digits long\n",
    "def county_len(cell):\n",
    "    if len(str(cell)) == 1:\n",
    "        return(\"00\" + str(cell))\n",
    "    elif len(str(cell)) == 2:\n",
    "        return(\"0\" + str(cell))"
   ]
  },
  {
   "cell_type": "code",
   "execution_count": null,
   "metadata": {},
   "outputs": [],
   "source": [
    "yearly_df.API_COUNTY = yearly_df.API_COUNTY.apply(county_len)\n",
    "yearly_df.head()"
   ]
  },
  {
   "cell_type": "code",
   "execution_count": null,
   "metadata": {},
   "outputs": [],
   "source": [
    "# function to make API_NUMBER 5 digits long\n",
    "def number_len(cell):\n",
    "    if len(str(cell)) == 1:\n",
    "        return(\"0000\" + str(cell))\n",
    "    elif len(str(cell)) == 2:\n",
    "        return(\"000\" + str(cell))\n",
    "    elif len(str(cell)) == 3:\n",
    "        return(\"00\" + str(cell))\n",
    "    elif len(str(cell)) == 4:\n",
    "        return(\"0\" + str(cell))"
   ]
  },
  {
   "cell_type": "code",
   "execution_count": null,
   "metadata": {},
   "outputs": [],
   "source": [
    "yearly_df.API_NUMBER = yearly_df.API_NUMBER.apply(number_len)\n",
    "yearly_df.head()"
   ]
  },
  {
   "cell_type": "code",
   "execution_count": null,
   "metadata": {},
   "outputs": [],
   "source": [
    "# New column for full API\n",
    "yearly_df[\"API\"] = \"35\" + yearly_df.API_COUNTY.astype(str) + yearly_df.API_NUMBER.astype(str)\n",
    "yearly_df.head()"
   ]
  },
  {
   "cell_type": "code",
   "execution_count": null,
   "metadata": {},
   "outputs": [],
   "source": [
    "# Create new column combining API and year to for unique id for each entry. \n",
    "yearly_df[\"API_YEAR\"] = yearly_df.API.astype(str) + \"-\" + yearly_df.YEAR.astype(str)\n",
    "yearly_df.head()"
   ]
  },
  {
   "cell_type": "code",
   "execution_count": null,
   "metadata": {},
   "outputs": [],
   "source": [
    "# Drop duplicate entries; there should only be one entry per API per year\n",
    "yearly_df.drop_duplicates(subset=['API_YEAR'], inplace=True)"
   ]
  },
  {
   "cell_type": "code",
   "execution_count": null,
   "metadata": {},
   "outputs": [],
   "source": [
    "# Put API and API YEAR at beginning of list\n",
    "cols = yearly_df.columns.tolist()\n",
    "cols = cols = cols[-1:] + cols[:-1]\n",
    "yearly_df = yearly_df[cols]\n",
    "cols = yearly_df.columns.tolist()\n",
    "cols = cols = cols[-1:] + cols[:-1]\n",
    "yearly_df = yearly_df[cols]\n",
    "yearly_df.head()"
   ]
  },
  {
   "cell_type": "code",
   "execution_count": null,
   "metadata": {},
   "outputs": [],
   "source": [
    "# Export to CSV for upload into database\n",
    "yearly_df.to_csv(\"/Users/curtissmith/Projects/oklahoma_earthquakes_largefiles/python_exports/occ_06-10_cleaned.csv\", index = False)"
   ]
  }
 ],
 "metadata": {
  "kernelspec": {
   "display_name": "PythonData",
   "language": "python",
   "name": "pythondata"
  },
  "language_info": {
   "codemirror_mode": {
    "name": "ipython",
    "version": 3
   },
   "file_extension": ".py",
   "mimetype": "text/x-python",
   "name": "python",
   "nbconvert_exporter": "python",
   "pygments_lexer": "ipython3",
   "version": "3.7.9"
  }
 },
 "nbformat": 4,
 "nbformat_minor": 4
}
