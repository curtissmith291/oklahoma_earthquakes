{
 "cells": [
  {
   "cell_type": "code",
   "execution_count": 1,
   "metadata": {},
   "outputs": [],
   "source": [
    "import pandas as pd"
   ]
  },
  {
   "cell_type": "code",
   "execution_count": 2,
   "metadata": {},
   "outputs": [
    {
     "data": {
      "text/html": [
       "<div>\n",
       "<style scoped>\n",
       "    .dataframe tbody tr th:only-of-type {\n",
       "        vertical-align: middle;\n",
       "    }\n",
       "\n",
       "    .dataframe tbody tr th {\n",
       "        vertical-align: top;\n",
       "    }\n",
       "\n",
       "    .dataframe thead th {\n",
       "        text-align: right;\n",
       "    }\n",
       "</style>\n",
       "<table border=\"1\" class=\"dataframe\">\n",
       "  <thead>\n",
       "    <tr style=\"text-align: right;\">\n",
       "      <th></th>\n",
       "      <th>API</th>\n",
       "      <th>Well_Name</th>\n",
       "      <th>Well_Number</th>\n",
       "      <th>Operator_Number</th>\n",
       "      <th>Operator_Name</th>\n",
       "      <th>Daily_Report_Date_Start</th>\n",
       "      <th>Daily_Report_Date_End</th>\n",
       "      <th>Report_Date</th>\n",
       "      <th>Volume_BPD</th>\n",
       "      <th>Pressure_PSI</th>\n",
       "      <th>Latitude</th>\n",
       "      <th>Longitude</th>\n",
       "      <th>DirArea</th>\n",
       "      <th>Directive_Status</th>\n",
       "    </tr>\n",
       "  </thead>\n",
       "  <tbody>\n",
       "    <tr>\n",
       "      <th>0</th>\n",
       "      <td>3.500322e+09</td>\n",
       "      <td>ROSE KELLY SWD</td>\n",
       "      <td>1-3</td>\n",
       "      <td>20357.0</td>\n",
       "      <td>SANDRIDGE EXPLORATION &amp; PRODUCTION LLC</td>\n",
       "      <td>2014-11-23</td>\n",
       "      <td>2020-03-29</td>\n",
       "      <td>2014-12-31</td>\n",
       "      <td>3246.0</td>\n",
       "      <td>0.0</td>\n",
       "      <td>36.928442</td>\n",
       "      <td>-98.256115</td>\n",
       "      <td>OWRA</td>\n",
       "      <td>NOT IN GRANITE</td>\n",
       "    </tr>\n",
       "    <tr>\n",
       "      <th>1</th>\n",
       "      <td>3.500322e+09</td>\n",
       "      <td>ROSE KELLY SWD</td>\n",
       "      <td>1-3</td>\n",
       "      <td>20357.0</td>\n",
       "      <td>SANDRIDGE EXPLORATION &amp; PRODUCTION LLC</td>\n",
       "      <td>2014-11-23</td>\n",
       "      <td>2020-03-29</td>\n",
       "      <td>2014-12-30</td>\n",
       "      <td>3373.0</td>\n",
       "      <td>0.0</td>\n",
       "      <td>36.928442</td>\n",
       "      <td>-98.256115</td>\n",
       "      <td>OWRA</td>\n",
       "      <td>NOT IN GRANITE</td>\n",
       "    </tr>\n",
       "    <tr>\n",
       "      <th>2</th>\n",
       "      <td>3.500322e+09</td>\n",
       "      <td>ROSE KELLY SWD</td>\n",
       "      <td>1-3</td>\n",
       "      <td>20357.0</td>\n",
       "      <td>SANDRIDGE EXPLORATION &amp; PRODUCTION LLC</td>\n",
       "      <td>2014-11-23</td>\n",
       "      <td>2020-03-29</td>\n",
       "      <td>2014-12-29</td>\n",
       "      <td>3508.0</td>\n",
       "      <td>0.0</td>\n",
       "      <td>36.928442</td>\n",
       "      <td>-98.256115</td>\n",
       "      <td>OWRA</td>\n",
       "      <td>NOT IN GRANITE</td>\n",
       "    </tr>\n",
       "    <tr>\n",
       "      <th>3</th>\n",
       "      <td>3.500322e+09</td>\n",
       "      <td>ROSE KELLY SWD</td>\n",
       "      <td>1-3</td>\n",
       "      <td>20357.0</td>\n",
       "      <td>SANDRIDGE EXPLORATION &amp; PRODUCTION LLC</td>\n",
       "      <td>2014-11-23</td>\n",
       "      <td>2020-03-29</td>\n",
       "      <td>2014-12-28</td>\n",
       "      <td>3363.0</td>\n",
       "      <td>0.0</td>\n",
       "      <td>36.928442</td>\n",
       "      <td>-98.256115</td>\n",
       "      <td>OWRA</td>\n",
       "      <td>NOT IN GRANITE</td>\n",
       "    </tr>\n",
       "    <tr>\n",
       "      <th>4</th>\n",
       "      <td>3.500322e+09</td>\n",
       "      <td>ROSE KELLY SWD</td>\n",
       "      <td>1-3</td>\n",
       "      <td>20357.0</td>\n",
       "      <td>SANDRIDGE EXPLORATION &amp; PRODUCTION LLC</td>\n",
       "      <td>2014-11-23</td>\n",
       "      <td>2020-03-29</td>\n",
       "      <td>2014-12-27</td>\n",
       "      <td>3226.0</td>\n",
       "      <td>0.0</td>\n",
       "      <td>36.928442</td>\n",
       "      <td>-98.256115</td>\n",
       "      <td>OWRA</td>\n",
       "      <td>NOT IN GRANITE</td>\n",
       "    </tr>\n",
       "  </tbody>\n",
       "</table>\n",
       "</div>"
      ],
      "text/plain": [
       "            API       Well_Name Well_Number  Operator_Number  \\\n",
       "0  3.500322e+09  ROSE KELLY SWD         1-3          20357.0   \n",
       "1  3.500322e+09  ROSE KELLY SWD         1-3          20357.0   \n",
       "2  3.500322e+09  ROSE KELLY SWD         1-3          20357.0   \n",
       "3  3.500322e+09  ROSE KELLY SWD         1-3          20357.0   \n",
       "4  3.500322e+09  ROSE KELLY SWD         1-3          20357.0   \n",
       "\n",
       "                            Operator_Name Daily_Report_Date_Start  \\\n",
       "0  SANDRIDGE EXPLORATION & PRODUCTION LLC              2014-11-23   \n",
       "1  SANDRIDGE EXPLORATION & PRODUCTION LLC              2014-11-23   \n",
       "2  SANDRIDGE EXPLORATION & PRODUCTION LLC              2014-11-23   \n",
       "3  SANDRIDGE EXPLORATION & PRODUCTION LLC              2014-11-23   \n",
       "4  SANDRIDGE EXPLORATION & PRODUCTION LLC              2014-11-23   \n",
       "\n",
       "  Daily_Report_Date_End Report_Date  Volume_BPD  Pressure_PSI   Latitude  \\\n",
       "0            2020-03-29  2014-12-31      3246.0           0.0  36.928442   \n",
       "1            2020-03-29  2014-12-30      3373.0           0.0  36.928442   \n",
       "2            2020-03-29  2014-12-29      3508.0           0.0  36.928442   \n",
       "3            2020-03-29  2014-12-28      3363.0           0.0  36.928442   \n",
       "4            2020-03-29  2014-12-27      3226.0           0.0  36.928442   \n",
       "\n",
       "   Longitude DirArea Directive_Status  \n",
       "0 -98.256115    OWRA   NOT IN GRANITE  \n",
       "1 -98.256115    OWRA   NOT IN GRANITE  \n",
       "2 -98.256115    OWRA   NOT IN GRANITE  \n",
       "3 -98.256115    OWRA   NOT IN GRANITE  \n",
       "4 -98.256115    OWRA   NOT IN GRANITE  "
      ]
     },
     "execution_count": 2,
     "metadata": {},
     "output_type": "execute_result"
    }
   ],
   "source": [
    "df = pd.read_csv(\"../oklahoma_earthquakes_largefiles/arb_2014_cleaned.csv\", low_memory=False)\n",
    "df.head()"
   ]
  },
  {
   "cell_type": "code",
   "execution_count": 6,
   "metadata": {},
   "outputs": [],
   "source": [
    "sum_2014 = df.groupby(\"Report_Date\")[\"Volume_BPD\"].sum()"
   ]
  },
  {
   "cell_type": "code",
   "execution_count": 7,
   "metadata": {},
   "outputs": [
    {
     "data": {
      "text/plain": [
       "Report_Date\n",
       "2012-09-21       150.000000\n",
       "2012-09-22       170.000000\n",
       "2012-09-23       160.000000\n",
       "2012-09-24       131.000000\n",
       "2012-09-25      2955.000000\n",
       "                  ...      \n",
       "2014-12-27    647831.146973\n",
       "2014-12-28    641367.000000\n",
       "2014-12-29    657652.126953\n",
       "2014-12-30    677097.060059\n",
       "2014-12-31    641516.602051\n",
       "Name: Volume_BPD, Length: 832, dtype: float64"
      ]
     },
     "execution_count": 7,
     "metadata": {},
     "output_type": "execute_result"
    }
   ],
   "source": [
    "sum_2014"
   ]
  },
  {
   "cell_type": "code",
   "execution_count": 8,
   "metadata": {
    "scrolled": true
   },
   "outputs": [
    {
     "data": {
      "text/plain": [
       "<AxesSubplot:>"
      ]
     },
     "execution_count": 8,
     "metadata": {},
     "output_type": "execute_result"
    },
    {
     "data": {
      "image/png": "[encoded data removed]",
      "text/plain": [
       "<Figure size 432x288 with 1 Axes>"
      ]
     },
     "metadata": {
      "needs_background": "light"
     },
     "output_type": "display_data"
    }
   ],
   "source": [
    "sum_2014.hist()"
   ]
  },
  {
   "cell_type": "code",
   "execution_count": 14,
   "metadata": {},
   "outputs": [],
   "source": [
    "df.iloc[:, 5:8] = df.iloc[:, 5:8].apply(pd.to_datetime)"
   ]
  },
  {
   "cell_type": "code",
   "execution_count": 15,
   "metadata": {},
   "outputs": [
    {
     "name": "stdout",
     "output_type": "stream",
     "text": [
      "<class 'pandas.core.frame.DataFrame'>\n",
      "RangeIndex: 15411 entries, 0 to 15410\n",
      "Data columns (total 14 columns):\n",
      " #   Column                   Non-Null Count  Dtype         \n",
      "---  ------                   --------------  -----         \n",
      " 0   API                      15411 non-null  float64       \n",
      " 1   Well_Name                15411 non-null  object        \n",
      " 2   Well_Number              15411 non-null  object        \n",
      " 3   Operator_Number          15411 non-null  float64       \n",
      " 4   Operator_Name            15411 non-null  object        \n",
      " 5   Daily_Report_Date_Start  15411 non-null  datetime64[ns]\n",
      " 6   Daily_Report_Date_End    15411 non-null  datetime64[ns]\n",
      " 7   Report_Date              15411 non-null  datetime64[ns]\n",
      " 8   Volume_BPD               15411 non-null  float64       \n",
      " 9   Pressure_PSI             15411 non-null  float64       \n",
      " 10  Latitude                 15411 non-null  float64       \n",
      " 11  Longitude                15411 non-null  float64       \n",
      " 12  DirArea                  14952 non-null  object        \n",
      " 13  Directive_Status         15258 non-null  object        \n",
      "dtypes: datetime64[ns](3), float64(6), object(5)\n",
      "memory usage: 1.6+ MB\n"
     ]
    }
   ],
   "source": [
    "df.info()"
   ]
  },
  {
   "cell_type": "code",
   "execution_count": 20,
   "metadata": {},
   "outputs": [
    {
     "data": {
      "text/plain": [
       "Report_Date\n",
       "2012-09-23    4.800000e+02\n",
       "2012-09-30    1.606900e+04\n",
       "2012-10-07    2.007400e+04\n",
       "2012-10-14    1.811200e+04\n",
       "2012-10-21    1.929000e+04\n",
       "                  ...     \n",
       "2014-12-07    4.586831e+06\n",
       "2014-12-14    4.598096e+06\n",
       "2014-12-21    4.652543e+06\n",
       "2014-12-28    4.635287e+06\n",
       "2015-01-04    1.976266e+06\n",
       "Freq: W-SUN, Name: Volume_BPD, Length: 120, dtype: float64"
      ]
     },
     "execution_count": 20,
     "metadata": {},
     "output_type": "execute_result"
    }
   ],
   "source": [
    "sum_weekly_2014 = df.groupby(pd.Grouper(key=\"Report_Date\",freq='W'))[\"Volume_BPD\"].sum()\n",
    "sum_weekly_2014"
   ]
  },
  {
   "cell_type": "code",
   "execution_count": 21,
   "metadata": {},
   "outputs": [
    {
     "data": {
      "text/plain": [
       "<AxesSubplot:>"
      ]
     },
     "execution_count": 21,
     "metadata": {},
     "output_type": "execute_result"
    },
    {
     "data": {
      "image/png": "[encoded data removed]",
      "text/plain": [
       "<Figure size 432x288 with 1 Axes>"
      ]
     },
     "metadata": {
      "needs_background": "light"
     },
     "output_type": "display_data"
    }
   ],
   "source": [
    "sum_weekly_2014.hist()"
   ]
  },
  {
   "cell_type": "code",
   "execution_count": 22,
   "metadata": {},
   "outputs": [
    {
     "data": {
      "text/plain": [
       "Report_Date\n",
       "2012-09-23     160.000000\n",
       "2012-09-30    2295.571429\n",
       "2012-10-07    2867.714286\n",
       "2012-10-14    2587.428571\n",
       "2012-10-21    2755.714286\n",
       "                 ...     \n",
       "2014-12-07    5441.080284\n",
       "2014-12-14    5422.283344\n",
       "2014-12-21    5578.589266\n",
       "2014-12-28    5485.546815\n",
       "2015-01-04    5429.301618\n",
       "Freq: W-SUN, Name: Volume_BPD, Length: 120, dtype: float64"
      ]
     },
     "execution_count": 22,
     "metadata": {},
     "output_type": "execute_result"
    }
   ],
   "source": [
    "mean_weekly_2014 = df.groupby(pd.Grouper(key=\"Report_Date\",freq='W'))[\"Volume_BPD\"].mean()\n",
    "mean_weekly_2014"
   ]
  },
  {
   "cell_type": "code",
   "execution_count": 23,
   "metadata": {},
   "outputs": [
    {
     "data": {
      "text/plain": [
       "<AxesSubplot:>"
      ]
     },
     "execution_count": 23,
     "metadata": {},
     "output_type": "execute_result"
    },
    {
     "data": {
      "image/png": "[encoded data removed]",
      "text/plain": [
       "<Figure size 432x288 with 1 Axes>"
      ]
     },
     "metadata": {
      "needs_background": "light"
     },
     "output_type": "display_data"
    }
   ],
   "source": [
    "mean_weekly_2014.hist()"
   ]
  },
  {
   "cell_type": "code",
   "execution_count": 25,
   "metadata": {},
   "outputs": [
    {
     "data": {
      "text/html": [
       "<div>\n",
       "<style scoped>\n",
       "    .dataframe tbody tr th:only-of-type {\n",
       "        vertical-align: middle;\n",
       "    }\n",
       "\n",
       "    .dataframe tbody tr th {\n",
       "        vertical-align: top;\n",
       "    }\n",
       "\n",
       "    .dataframe thead th {\n",
       "        text-align: right;\n",
       "    }\n",
       "</style>\n",
       "<table border=\"1\" class=\"dataframe\">\n",
       "  <thead>\n",
       "    <tr style=\"text-align: right;\">\n",
       "      <th></th>\n",
       "      <th>count</th>\n",
       "      <th>mean</th>\n",
       "      <th>std</th>\n",
       "      <th>min</th>\n",
       "      <th>25%</th>\n",
       "      <th>50%</th>\n",
       "      <th>75%</th>\n",
       "      <th>max</th>\n",
       "    </tr>\n",
       "    <tr>\n",
       "      <th>Report_Date</th>\n",
       "      <th></th>\n",
       "      <th></th>\n",
       "      <th></th>\n",
       "      <th></th>\n",
       "      <th></th>\n",
       "      <th></th>\n",
       "      <th></th>\n",
       "      <th></th>\n",
       "    </tr>\n",
       "  </thead>\n",
       "  <tbody>\n",
       "    <tr>\n",
       "      <th>2012-09-23</th>\n",
       "      <td>3.0</td>\n",
       "      <td>160.000000</td>\n",
       "      <td>10.000000</td>\n",
       "      <td>150.0</td>\n",
       "      <td>155.0</td>\n",
       "      <td>160.000000</td>\n",
       "      <td>165.0</td>\n",
       "      <td>170.0</td>\n",
       "    </tr>\n",
       "    <tr>\n",
       "      <th>2012-09-30</th>\n",
       "      <td>7.0</td>\n",
       "      <td>2295.571429</td>\n",
       "      <td>1281.973200</td>\n",
       "      <td>131.0</td>\n",
       "      <td>1651.0</td>\n",
       "      <td>2809.000000</td>\n",
       "      <td>2944.5</td>\n",
       "      <td>3938.0</td>\n",
       "    </tr>\n",
       "    <tr>\n",
       "      <th>2012-10-07</th>\n",
       "      <td>7.0</td>\n",
       "      <td>2867.714286</td>\n",
       "      <td>630.165776</td>\n",
       "      <td>1993.0</td>\n",
       "      <td>2441.0</td>\n",
       "      <td>2959.000000</td>\n",
       "      <td>3190.0</td>\n",
       "      <td>3860.0</td>\n",
       "    </tr>\n",
       "    <tr>\n",
       "      <th>2012-10-14</th>\n",
       "      <td>7.0</td>\n",
       "      <td>2587.428571</td>\n",
       "      <td>180.383718</td>\n",
       "      <td>2313.0</td>\n",
       "      <td>2452.5</td>\n",
       "      <td>2675.000000</td>\n",
       "      <td>2720.5</td>\n",
       "      <td>2778.0</td>\n",
       "    </tr>\n",
       "    <tr>\n",
       "      <th>2012-10-21</th>\n",
       "      <td>7.0</td>\n",
       "      <td>2755.714286</td>\n",
       "      <td>251.048278</td>\n",
       "      <td>2401.0</td>\n",
       "      <td>2607.0</td>\n",
       "      <td>2813.000000</td>\n",
       "      <td>2898.5</td>\n",
       "      <td>3065.0</td>\n",
       "    </tr>\n",
       "    <tr>\n",
       "      <th>...</th>\n",
       "      <td>...</td>\n",
       "      <td>...</td>\n",
       "      <td>...</td>\n",
       "      <td>...</td>\n",
       "      <td>...</td>\n",
       "      <td>...</td>\n",
       "      <td>...</td>\n",
       "      <td>...</td>\n",
       "    </tr>\n",
       "    <tr>\n",
       "      <th>2014-12-07</th>\n",
       "      <td>843.0</td>\n",
       "      <td>5441.080284</td>\n",
       "      <td>9313.964074</td>\n",
       "      <td>-999.0</td>\n",
       "      <td>280.5</td>\n",
       "      <td>2139.745117</td>\n",
       "      <td>6717.5</td>\n",
       "      <td>65052.0</td>\n",
       "    </tr>\n",
       "    <tr>\n",
       "      <th>2014-12-14</th>\n",
       "      <td>848.0</td>\n",
       "      <td>5422.283344</td>\n",
       "      <td>9542.996969</td>\n",
       "      <td>-999.0</td>\n",
       "      <td>265.5</td>\n",
       "      <td>1829.158996</td>\n",
       "      <td>6100.0</td>\n",
       "      <td>67228.0</td>\n",
       "    </tr>\n",
       "    <tr>\n",
       "      <th>2014-12-21</th>\n",
       "      <td>834.0</td>\n",
       "      <td>5578.589266</td>\n",
       "      <td>9634.372821</td>\n",
       "      <td>-999.0</td>\n",
       "      <td>242.0</td>\n",
       "      <td>1828.000000</td>\n",
       "      <td>6106.5</td>\n",
       "      <td>65844.0</td>\n",
       "    </tr>\n",
       "    <tr>\n",
       "      <th>2014-12-28</th>\n",
       "      <td>845.0</td>\n",
       "      <td>5485.546815</td>\n",
       "      <td>9428.572908</td>\n",
       "      <td>-999.0</td>\n",
       "      <td>233.0</td>\n",
       "      <td>1678.000000</td>\n",
       "      <td>6232.0</td>\n",
       "      <td>64457.0</td>\n",
       "    </tr>\n",
       "    <tr>\n",
       "      <th>2015-01-04</th>\n",
       "      <td>364.0</td>\n",
       "      <td>5429.301618</td>\n",
       "      <td>9216.233646</td>\n",
       "      <td>0.0</td>\n",
       "      <td>168.5</td>\n",
       "      <td>1420.500000</td>\n",
       "      <td>6622.5</td>\n",
       "      <td>63584.0</td>\n",
       "    </tr>\n",
       "  </tbody>\n",
       "</table>\n",
       "<p>120 rows × 8 columns</p>\n",
       "</div>"
      ],
      "text/plain": [
       "             count         mean          std     min     25%          50%  \\\n",
       "Report_Date                                                                 \n",
       "2012-09-23     3.0   160.000000    10.000000   150.0   155.0   160.000000   \n",
       "2012-09-30     7.0  2295.571429  1281.973200   131.0  1651.0  2809.000000   \n",
       "2012-10-07     7.0  2867.714286   630.165776  1993.0  2441.0  2959.000000   \n",
       "2012-10-14     7.0  2587.428571   180.383718  2313.0  2452.5  2675.000000   \n",
       "2012-10-21     7.0  2755.714286   251.048278  2401.0  2607.0  2813.000000   \n",
       "...            ...          ...          ...     ...     ...          ...   \n",
       "2014-12-07   843.0  5441.080284  9313.964074  -999.0   280.5  2139.745117   \n",
       "2014-12-14   848.0  5422.283344  9542.996969  -999.0   265.5  1829.158996   \n",
       "2014-12-21   834.0  5578.589266  9634.372821  -999.0   242.0  1828.000000   \n",
       "2014-12-28   845.0  5485.546815  9428.572908  -999.0   233.0  1678.000000   \n",
       "2015-01-04   364.0  5429.301618  9216.233646     0.0   168.5  1420.500000   \n",
       "\n",
       "                75%      max  \n",
       "Report_Date                   \n",
       "2012-09-23    165.0    170.0  \n",
       "2012-09-30   2944.5   3938.0  \n",
       "2012-10-07   3190.0   3860.0  \n",
       "2012-10-14   2720.5   2778.0  \n",
       "2012-10-21   2898.5   3065.0  \n",
       "...             ...      ...  \n",
       "2014-12-07   6717.5  65052.0  \n",
       "2014-12-14   6100.0  67228.0  \n",
       "2014-12-21   6106.5  65844.0  \n",
       "2014-12-28   6232.0  64457.0  \n",
       "2015-01-04   6622.5  63584.0  \n",
       "\n",
       "[120 rows x 8 columns]"
      ]
     },
     "execution_count": 25,
     "metadata": {},
     "output_type": "execute_result"
    }
   ],
   "source": [
    "df.groupby(pd.Grouper(key=\"Report_Date\",freq='W'))[\"Volume_BPD\"].describe()"
   ]
  },
  {
   "cell_type": "code",
   "execution_count": 26,
   "metadata": {},
   "outputs": [
    {
     "data": {
      "text/plain": [
       "count    15411.000000\n",
       "mean      4594.920550\n",
       "std       9605.496977\n",
       "min       -999.000000\n",
       "25%        148.000000\n",
       "50%       1276.000000\n",
       "75%       4617.500000\n",
       "max      67849.000000\n",
       "Name: Volume_BPD, dtype: float64"
      ]
     },
     "execution_count": 26,
     "metadata": {},
     "output_type": "execute_result"
    }
   ],
   "source": [
    "df[\"Volume_BPD\"].describe()"
   ]
  },
  {
   "cell_type": "code",
   "execution_count": null,
   "metadata": {},
   "outputs": [],
   "source": []
  }
 ],
 "metadata": {
  "kernelspec": {
   "display_name": "PythonData",
   "language": "python",
   "name": "pythondata"
  },
  "language_info": {
   "codemirror_mode": {
    "name": "ipython",
    "version": 3
   },
   "file_extension": ".py",
   "mimetype": "text/x-python",
   "name": "python",
   "nbconvert_exporter": "python",
   "pygments_lexer": "ipython3",
   "version": "3.7.9"
  }
 },
 "nbformat": 4,
 "nbformat_minor": 4
}
